{
 "cells": [
  {
   "cell_type": "markdown",
   "metadata": {},
   "source": [
    "Data downloaded from:\n",
    "[http://data.dft.gov.uk/anonymised-mot-test/test_data/dft_test_result_2019.zip](https://data.gov.uk/dataset/e3939ef8-30c7-4ca8-9c7c-ad9475cc9b2f/anonymised-mot-tests-and-results)\n",
    "\n",
    "Zip file extracted to local disk, then 4 csv files put into the `mot-data/data` folder"
   ]
  },
  {
   "cell_type": "code",
   "execution_count": 1,
   "metadata": {},
   "outputs": [
    {
     "name": "stdout",
     "output_type": "stream",
     "text": [
      "Connection to SQLite DB successful\n"
     ]
    }
   ],
   "source": [
    "# Import and create a new database file\n",
    "import sqlite3\n",
    "from sqlite3 import Error\n",
    "import os\n",
    "\n",
    "def create_connection(path):\n",
    "    connection = None\n",
    "    try:\n",
    "        connection = sqlite3.connect(path)\n",
    "        print(\"Connection to SQLite DB successful\")\n",
    "    except Error as e:\n",
    "        print(f\"The error '{e}' occurred\")\n",
    "\n",
    "    return connection\n",
    "\n",
    "connection = create_connection(os.path.join('data','mot.sqlite'))\n"
   ]
  },
  {
   "cell_type": "code",
   "execution_count": 2,
   "metadata": {},
   "outputs": [],
   "source": [
    "# Create function to simply execute query\n",
    "def execute_query(connection, query, firstonly=False, verbose=True):\n",
    "    cursor = connection.cursor()\n",
    "    try:\n",
    "        cursor.execute(query)\n",
    "        connection.commit()\n",
    "        if verbose:print(\"Query executed successfully\");\n",
    "    except Error as e:\n",
    "        print(f\"The error '{e}' occurred\")\n",
    "    if firstonly:\n",
    "        return cursor.fetchone()\n",
    "    else:\n",
    "        return cursor.fetchall()\n",
    "\n",
    "def insert_query(connection, query, t, verbose=True):\n",
    "    cursor = connection.cursor()\n",
    "    try:\n",
    "        cursor.execute(query, t)\n",
    "        connection.commit()\n",
    "        if verbose:print(\"Query executed successfully\");\n",
    "    except Error as e:\n",
    "        print(f\"The error '{e}' occurred\")\n",
    "    return"
   ]
  },
  {
   "cell_type": "code",
   "execution_count": 3,
   "metadata": {},
   "outputs": [],
   "source": [
    "import pandas as pd\n",
    "import os\n",
    "\n",
    "names = ['test_id','vehicle_id','test_date','test_class_id','test_type','test_result','test_mileage','postcode_area','make','model','colour','fuel_type','cylinder_capacity','first_use_date']\n",
    "dtypes = {'test_id':'int', \n",
    "          'vehicle_id':'int',\n",
    "          'test_date':'object', \n",
    "          'test_class_id':'int',\n",
    "          'test_type':'object', \n",
    "          'test_result':'object', \n",
    "          'test_mileage':'object',\n",
    "          'postcode_area':'object', \n",
    "          'make':'object', \n",
    "          'model':'object', \n",
    "          'colour':'object',\n",
    "          'fuel_type':'object', \n",
    "          'cylinder_capacity':'object', \n",
    "          'first_use_date':'object'}\n",
    "na_values = {'test_mileage':-1}"
   ]
  },
  {
   "cell_type": "code",
   "execution_count": 4,
   "metadata": {},
   "outputs": [
    {
     "ename": "KeyboardInterrupt",
     "evalue": "",
     "output_type": "error",
     "traceback": [
      "\u001b[0;31m---------------------------------------------------------------------------\u001b[0m",
      "\u001b[0;31mKeyboardInterrupt\u001b[0m                         Traceback (most recent call last)",
      "\u001b[0;32m<ipython-input-4-340ae3add27e>\u001b[0m in \u001b[0;36m<module>\u001b[0;34m\u001b[0m\n\u001b[1;32m      1\u001b[0m \u001b[0;31m# Create mot1 table\u001b[0m\u001b[0;34m\u001b[0m\u001b[0;34m\u001b[0m\u001b[0;34m\u001b[0m\u001b[0m\n\u001b[0;32m----> 2\u001b[0;31m execute_query(connection,'''\n\u001b[0m\u001b[1;32m      3\u001b[0m \u001b[0mDROP\u001b[0m \u001b[0mTABLE\u001b[0m \u001b[0mIF\u001b[0m \u001b[0mEXISTS\u001b[0m \u001b[0mmot1\u001b[0m\u001b[0;34m;\u001b[0m\u001b[0;34m\u001b[0m\u001b[0;34m\u001b[0m\u001b[0m\n\u001b[1;32m      4\u001b[0m ''')\n\u001b[1;32m      5\u001b[0m \u001b[0;34m\u001b[0m\u001b[0m\n",
      "\u001b[0;32m<ipython-input-2-1fd163a825f4>\u001b[0m in \u001b[0;36mexecute_query\u001b[0;34m(connection, query, firstonly, verbose)\u001b[0m\n\u001b[1;32m      3\u001b[0m     \u001b[0mcursor\u001b[0m \u001b[0;34m=\u001b[0m \u001b[0mconnection\u001b[0m\u001b[0;34m.\u001b[0m\u001b[0mcursor\u001b[0m\u001b[0;34m(\u001b[0m\u001b[0;34m)\u001b[0m\u001b[0;34m\u001b[0m\u001b[0;34m\u001b[0m\u001b[0m\n\u001b[1;32m      4\u001b[0m     \u001b[0;32mtry\u001b[0m\u001b[0;34m:\u001b[0m\u001b[0;34m\u001b[0m\u001b[0;34m\u001b[0m\u001b[0m\n\u001b[0;32m----> 5\u001b[0;31m         \u001b[0mcursor\u001b[0m\u001b[0;34m.\u001b[0m\u001b[0mexecute\u001b[0m\u001b[0;34m(\u001b[0m\u001b[0mquery\u001b[0m\u001b[0;34m)\u001b[0m\u001b[0;34m\u001b[0m\u001b[0;34m\u001b[0m\u001b[0m\n\u001b[0m\u001b[1;32m      6\u001b[0m         \u001b[0mconnection\u001b[0m\u001b[0;34m.\u001b[0m\u001b[0mcommit\u001b[0m\u001b[0;34m(\u001b[0m\u001b[0;34m)\u001b[0m\u001b[0;34m\u001b[0m\u001b[0;34m\u001b[0m\u001b[0m\n\u001b[1;32m      7\u001b[0m         \u001b[0;32mif\u001b[0m \u001b[0mverbose\u001b[0m\u001b[0;34m:\u001b[0m\u001b[0mprint\u001b[0m\u001b[0;34m(\u001b[0m\u001b[0;34m\"Query executed successfully\"\u001b[0m\u001b[0;34m)\u001b[0m\u001b[0;34m;\u001b[0m\u001b[0;34m\u001b[0m\u001b[0;34m\u001b[0m\u001b[0m\n",
      "\u001b[0;31mKeyboardInterrupt\u001b[0m: "
     ]
    }
   ],
   "source": [
    "# Create mot1 table\n",
    "execute_query(connection,'''\n",
    "DROP TABLE IF EXISTS mot1;\n",
    "''')\n",
    "\n",
    "execute_query(connection, '''\n",
    "CREATE TABLE mot1 (\n",
    "  test_id INTEGER,\n",
    "  vehicle_id INTEGER,\n",
    "  test_date TEXT,\n",
    "  test_class_id INTEGER,\n",
    "  test_type TEXT,\n",
    "  test_result TEXT,\n",
    "  test_mileage INTEGER,\n",
    "  postcode_area TEXT,\n",
    "  make TEXT,\n",
    "  model TEXT,\n",
    "  colour TEXT,\n",
    "  fuel_type TEXT,\n",
    "  cylinder_capacity INTEGER,\n",
    "  first_use_date TEXT\n",
    ");\n",
    "''')"
   ]
  },
  {
   "cell_type": "code",
   "execution_count": null,
   "metadata": {},
   "outputs": [],
   "source": [
    "# Stackoverflow\n",
    "from datetime import datetime\n",
    "\n",
    "def process_chunk(chunk):\n",
    "    # handles one chunk of rows ffrom pandas reader\n",
    "#     con = create_connection(os.path.join('data','mot.sqlite'))\n",
    "    \n",
    "    for i, row in enumerate(chunk):\n",
    "        test_id = row[0]\n",
    "        vehicle_id = row[1]\n",
    "        test_date = datetime.strptime(row[2], '%Y-%m-%d')\n",
    "        test_class_id = row[3]\n",
    "        test_type = row[4]\n",
    "        test_result = row[5]\n",
    "        test_mileage = int(row[6])\n",
    "        postcode_area = row[7]\n",
    "        make = row[8]\n",
    "        model = row[9]\n",
    "        colour = row[10]\n",
    "        fuel_type = row[11]\n",
    "        cylinder_capacity = row[12]\n",
    "        first_use_date = datetime.strptime(row[13], '%Y-%m-%d')\n",
    "        \n",
    "        #             print(f'{test_id} {vehicle_id} [{test_date.strftime(\"%Y-%m-%d %H:%M:%S\")}] '+\n",
    "        #                   f'{test_class_id} {test_type} {test_result} {test_mileage} {postcode_area} '+\n",
    "        #                   f'{make} {model} {colour} {fuel_type} {cylinder_capacity} ' +\n",
    "        #                   f'[{first_use_date.strftime(\"%Y-%m-%d %H:%M:%S\")}]')\n",
    "\n",
    "        insert_query(connection,f'''\n",
    "        INSERT INTO mot1 (test_id, vehicle_id, test_date, test_class_id, \n",
    "        test_type, test_result, test_mileage, postcode_area,\n",
    "        make, model, colour, fuel_type, cylinder_capacity, first_use_date)\n",
    "        VALUES (?, ?, ?, ?, ?, ?, ?, ?, ?, ?, ?, ?, ?, ?);\n",
    "        ''', (test_id, vehicle_id, test_date.strftime(\"%Y-%m-%d %H:%M:%S\"),\n",
    "             test_class_id, test_type, test_result,\n",
    "             test_mileage, postcode_area, make, model, colour,\n",
    "             fuel_type, cylinder_capacity, first_use_date), verbose=False)\n",
    "        if i>5:\n",
    "            break\n",
    "    \n",
    "for i, chunk in enumerate(pd.read_csv(os.path.join('data','dft_test_result-from-2019-01-01_00-00-01-to-2019-04-01_00-00-01.csv'), \n",
    "                 sep=',', delim_whitespace=False,\n",
    "                 names=names, dtype=dtypes, engine='python', chunksize=20000, header=0,\n",
    "                 error_bad_lines=False, warn_bad_lines=True, doublequote=False)):\n",
    "    # Adjust chunksize to your needs and RAM\n",
    "    chunk['test_mileage'].fillna(-1,inplace=True)\n",
    "    \n",
    "    process_chunk(chunk.values)\n",
    "#     if i>0:\n",
    "#         break\n"
   ]
  },
  {
   "cell_type": "code",
   "execution_count": 12,
   "metadata": {},
   "outputs": [
    {
     "name": "stdout",
     "output_type": "stream",
     "text": [
      "(1930167913, 1168220651, '2019-01-01 00:00:00', 4, 'NT', 'P', '47108', 'LL', 'LAND ROVER', 'DISCOVERY', 'WHITE', 'DI', '2993', '2014-07-29 00:00:00') (1887519427, 608494756, '2019-01-01 00:00:00', 4, 'NT', 'P', '74254', 'RM', 'VAUXHALL', 'COMBO', 'BLUE', 'DI', '1686', '2000-10-16 00:00:00') (1844870941, 345838224, '2019-01-01 00:00:00', 4, 'NT', 'P', '52596', 'RM', 'SMART (MCC)', 'FORTWO COUPE', 'BLACK', 'PE', '999', '2010-06-30 00:00:00') (1802222455, 712515370, '2019-01-01 00:00:00', 4, 'NT', 'F', '97925', 'S', 'KIA', 'CEED', 'BLUE', 'DI', '1582', '2007-10-31 00:00:00') (1631628511, 929718858, '2019-01-01 00:00:00', 4, 'RT', 'P', '91055', 'BB', 'TOYOTA', 'YARIS', 'RED', 'PE', '998', '2002-11-11 00:00:00') (1588980025, 228077478, '2019-01-01 00:00:00', 4, 'RT', 'P', '69520', 'BN', 'HYUNDAI', 'COUPE', 'SILVER', 'PE', '1975', '2006-06-27 00:00:00') (1205143651, 614637102, '2019-01-01 00:00:00', 4, 'RT', 'P', '62554', 'CA', 'NISSAN', 'JUKE', 'RED', 'PE', '1598', '2011-03-09 00:00:00') (1759573969, 618829162, '2019-01-01 00:00:00', 4, 'NT', 'P', '56880', 'TW', 'PEUGEOT', '308 S AUTO', 'GREY', 'PE', '1598', '2008-11-19 00:00:00') (1674276997, 682893232, '2019-01-01 00:00:00', 4, 'NT', 'F', '80949', 'S', 'ALFA ROMEO', 'MITO', 'BLACK', 'PE', '1368', '2009-05-25 00:00:00') (1461034567, 235776422, '2019-01-01 00:00:00', 2, 'NT', 'P', None, 'BA', 'HONDA', 'UNCLASSIFIED', 'RED', 'PE', '249', '2004-06-11 00:00:00') (1418386081, 61335833, '2019-01-01 00:00:00', 4, 'NT', 'P', '36133', 'B', 'VOLKSWAGEN', 'GOLF', 'WHITE', 'PE', '999', '2016-01-26 00:00:00') (1546331539, 176377520, '2019-01-01 00:00:00', 4, 'NT', 'PRS', '119712', 'BB', 'TOYOTA', 'COROLLA', 'SILVER', 'PE', '1794', '2004-12-10 00:00:00') (1333089109, 26322146, '2019-01-01 00:00:00', 4, 'NT', 'P', '124500', 'PR', 'VOLKSWAGEN', 'GOLF', 'SILVER', 'DI', '1896', '2001-11-06 00:00:00') (1290440623, 922015230, '2019-01-01 00:00:00', 4, 'NT', 'PRS', '107218', 'B', 'TOYOTA', 'PREVIA', 'BLUE', 'LP', '2362', '2004-03-01 00:00:00') (1503683053, 1250261715, '2019-01-01 00:00:00', 4, 'NT', 'P', '71669', 'LU', 'MERCEDES-BENZ', 'E', 'BLACK', 'DI', '2143', '2013-03-30 00:00:00') (565416361, 977928314, '2019-01-01 00:00:00', 4, 'RT', 'P', '131270', 'BD', 'MITSUBISHI', 'OUTLANDER', 'SILVER', 'DI', '1968', '2007-07-31 00:00:00') (1119846679, 128605302, '2019-01-01 00:00:00', 4, 'NT', 'P', '177868', 'LU', 'BMW', '120', 'BLACK', 'DI', '1995', '2008-03-08 00:00:00') (1247792137, 456460690, '2019-01-01 00:00:00', 4, 'NT', 'P', '79065', 'B', 'PEUGEOT', '207', 'GREY', 'DI', '1560', '2006-07-31 00:00:00') (1077198193, 1480838872, '2019-01-01 00:00:00', 4, 'NT', 'P', '92450', 'E', 'NISSAN', 'QASHQAI', 'GREY', 'PE', '1598', '2007-07-23 00:00:00') (1162495165, 1444401062, '2019-01-01 00:00:00', 4, 'NT', 'PRS', '86005', 'B', 'TOYOTA', 'AVENSIS', 'SILVER', 'DI', '1998', '2008-06-19 00:00:00')\n"
     ]
    }
   ],
   "source": [
    "print(*execute_query(connection,'SELECT * FROM mot1 limit 20;', verbose=False))"
   ]
  },
  {
   "cell_type": "code",
   "execution_count": 9,
   "metadata": {},
   "outputs": [
    {
     "name": "stdout",
     "output_type": "stream",
     "text": [
      "chunknum 0 completed.\n",
      "chunknum 1 completed. NaT detected at test_id=[1508254279]\n",
      "chunknum 2 completed.\n",
      "chunknum 3 completed.\n",
      "chunknum 4 completed. NaT detected at test_id=[1487206527]\n",
      "chunknum 5 completed.\n",
      "chunknum 6 completed. NaT detected at test_id=[1197994457 1371175063]\n",
      "chunknum 7 completed. NaT detected at test_id=[1969863607  713113865]\n",
      "chunknum 8 completed. NaT detected at test_id=[1926654095]\n",
      "chunknum 9 completed. NaT detected at test_id=[758782857]\n",
      "chunknum 10 completed.\n",
      "chunknum 11 completed.\n",
      "chunknum 12 completed.\n",
      "chunknum 13 completed. NaT detected at test_id=[20432289]\n",
      "chunknum 14 completed.\n",
      "chunknum 15 completed.\n",
      "chunknum 16 completed.\n",
      "chunknum 17 completed. NaT detected at test_id=[1951363753]\n",
      "chunknum 18 completed. NaT detected at test_id=[267869835]\n",
      "chunknum 19 completed.\n",
      "chunknum 20 completed.\n"
     ]
    }
   ],
   "source": [
    "from datetime import datetime\n",
    "list_nats = list()\n",
    "# Alternative simpler code, straight from dataframe to sql.\n",
    "for i, chunk in enumerate(pd.read_csv(os.path.join('data','dft_test_result-from-2019-01-01_00-00-01-to-2019-04-01_00-00-01.csv'),\n",
    "                         sep=',', delim_whitespace=False,\n",
    "                         names=names, dtype=dtypes, engine='python',\n",
    "                         chunksize=500000, iterator=True, header=0,\n",
    "                         error_bad_lines=False, warn_bad_lines=True, doublequote=False)):\n",
    "    #DEBUGGING\n",
    "    if i>0:break\n",
    "\n",
    "    chunk['test_date'] = pd.to_datetime(chunk['test_date'],format='%Y-%m-%d', errors='coerce')\n",
    "    chunk['first_use_date'] = pd.to_datetime(chunk['first_use_date'],format='%Y-%m-%d', errors='coerce')\n",
    "\n",
    "    chunk.to_sql('mot1', connection, if_exists='append', index = False)\n",
    "    is_nat = pd.isna(chunk['first_use_date'])\n",
    "    if any(is_nat):\n",
    "        print(f'chunknum {i} completed. NaT detected at test_id={chunk[is_nat][\"test_id\"].values}')\n",
    "        list_nats.append(chunk[is_nat][\"test_id\"].values)\n",
    "    else:\n",
    "        print(f'chunknum {i} completed.')\n"
   ]
  },
  {
   "cell_type": "code",
   "execution_count": 19,
   "metadata": {},
   "outputs": [
    {
     "data": {
      "text/html": [
       "<div>\n",
       "<style scoped>\n",
       "    .dataframe tbody tr th:only-of-type {\n",
       "        vertical-align: middle;\n",
       "    }\n",
       "\n",
       "    .dataframe tbody tr th {\n",
       "        vertical-align: top;\n",
       "    }\n",
       "\n",
       "    .dataframe thead th {\n",
       "        text-align: right;\n",
       "    }\n",
       "</style>\n",
       "<table border=\"1\" class=\"dataframe\">\n",
       "  <thead>\n",
       "    <tr style=\"text-align: right;\">\n",
       "      <th></th>\n",
       "      <th>COUNT(test_id)</th>\n",
       "    </tr>\n",
       "  </thead>\n",
       "  <tbody>\n",
       "    <tr>\n",
       "      <th>0</th>\n",
       "      <td>14710086</td>\n",
       "    </tr>\n",
       "  </tbody>\n",
       "</table>\n",
       "</div>"
      ],
      "text/plain": [
       "   COUNT(test_id)\n",
       "0        14710086"
      ]
     },
     "execution_count": 19,
     "metadata": {},
     "output_type": "execute_result"
    }
   ],
   "source": [
    "df = pd.read_sql_query('SELECT COUNT(test_id) FROM mot1;', connection)\n",
    "df.head()"
   ]
  },
  {
   "cell_type": "code",
   "execution_count": 20,
   "metadata": {},
   "outputs": [
    {
     "data": {
      "text/plain": [
       "[556155    1508254279\n",
       " Name: test_id, dtype: int64,\n",
       " 2489321    1487206527\n",
       " Name: test_id, dtype: int64,\n",
       " 3250572    1197994457\n",
       " 3258117    1371175063\n",
       " Name: test_id, dtype: int64,\n",
       " 3575287    1969863607\n",
       " 3949423     713113865\n",
       " Name: test_id, dtype: int64,\n",
       " 4194487    1926654095\n",
       " Name: test_id, dtype: int64,\n",
       " 4592951    758782857\n",
       " Name: test_id, dtype: int64,\n",
       " 6935550    20432289\n",
       " Name: test_id, dtype: int64,\n",
       " 8842791    1951363753\n",
       " Name: test_id, dtype: int64,\n",
       " 9317592    267869835\n",
       " Name: test_id, dtype: int64]"
      ]
     },
     "execution_count": 20,
     "metadata": {},
     "output_type": "execute_result"
    }
   ],
   "source": [
    "list_nats"
   ]
  },
  {
   "cell_type": "code",
   "execution_count": null,
   "metadata": {},
   "outputs": [],
   "source": [
    "df = pd.read_csv(os.path.join('data','dft_test_result-from-2019-01-01_00-00-01-to-2019-04-01_00-00-01.csv'), \n",
    "                 sep=',', delim_whitespace=False,\n",
    "                 names=names, dtype=dtypes, engine='python', chunksize=20000,\n",
    "                 error_bad_lines=False, warn_bad_lines=True)"
   ]
  },
  {
   "cell_type": "code",
   "execution_count": null,
   "metadata": {},
   "outputs": [],
   "source": [
    "lines = list(range(7795035, 7795036))\n",
    "\n",
    "with open(os.path.join('data','dft_test_result-from-2019-01-01_00-00-01-to-2019-04-01_00-00-01.csv')) as fp:\n",
    "    for i, line in enumerate(fp):\n",
    "        if i in lines:\n",
    "            print(f'[{i}]{repr(line)}')\n",
    "        elif i > max(lines):\n",
    "            break"
   ]
  },
  {
   "cell_type": "code",
   "execution_count": null,
   "metadata": {},
   "outputs": [],
   "source": [
    "df.to_sql('table1', connection, if_exists='replace', index = False)"
   ]
  },
  {
   "cell_type": "markdown",
   "metadata": {},
   "source": [
    "Columns in dataset are:\n",
    "test_id,vehicle_id,test_date,test_class_id,test_type,test_result,test_mileage,postcode_area,make,model,colour,fuel_type,cylinder_capacity,first_use_date"
   ]
  },
  {
   "cell_type": "code",
   "execution_count": null,
   "metadata": {},
   "outputs": [],
   "source": []
  }
 ],
 "metadata": {
  "kernelspec": {
   "display_name": "Python 3",
   "language": "python",
   "name": "python3"
  },
  "language_info": {
   "codemirror_mode": {
    "name": "ipython",
    "version": 3
   },
   "file_extension": ".py",
   "mimetype": "text/x-python",
   "name": "python",
   "nbconvert_exporter": "python",
   "pygments_lexer": "ipython3",
   "version": "3.8.5"
  }
 },
 "nbformat": 4,
 "nbformat_minor": 4
}
