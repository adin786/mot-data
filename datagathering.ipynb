{
 "cells": [
  {
   "cell_type": "markdown",
   "metadata": {},
   "source": [
    "Data downloaded from:\n",
    "[http://data.dft.gov.uk/anonymised-mot-test/test_data/dft_test_result_2019.zip](https://data.gov.uk/dataset/e3939ef8-30c7-4ca8-9c7c-ad9475cc9b2f/anonymised-mot-tests-and-results)\n",
    "\n",
    "Zip file extracted to local disk, then 4 csv files put into the `mot-data/data` folder"
   ]
  },
  {
   "cell_type": "code",
   "execution_count": 1,
   "metadata": {},
   "outputs": [
    {
     "name": "stdout",
     "output_type": "stream",
     "text": [
      "Connection to SQLite DB successful\n"
     ]
    }
   ],
   "source": [
    "# Import and create a new database file\n",
    "import sqlite3\n",
    "from sqlite3 import Error\n",
    "\n",
    "def create_connection(path):\n",
    "    connection = None\n",
    "    try:\n",
    "        connection = sqlite3.connect(path)\n",
    "        print(\"Connection to SQLite DB successful\")\n",
    "    except Error as e:\n",
    "        print(f\"The error '{e}' occurred\")\n",
    "\n",
    "    return connection\n",
    "\n",
    "connection = create_connection(\"data\\mot.sqlite\")\n"
   ]
  },
  {
   "cell_type": "code",
   "execution_count": 2,
   "metadata": {},
   "outputs": [],
   "source": [
    "# Create function to simply execute query\n",
    "def execute_query(connection, query):\n",
    "    cursor = connection.cursor()\n",
    "    try:\n",
    "        cursor.execute(query)\n",
    "        connection.commit()\n",
    "        print(\"Query executed successfully\")\n",
    "    except Error as e:\n",
    "        print(f\"The error '{e}' occurred\")"
   ]
  },
  {
   "cell_type": "code",
   "execution_count": null,
   "metadata": {},
   "outputs": [
    {
     "name": "stderr",
     "output_type": "stream",
     "text": [
      "Skipping line 888923: field larger than field limit (131072)\n",
      "Skipping line 1241544: field larger than field limit (131072)\n",
      "Skipping line 1461449: field larger than field limit (131072)\n",
      "Skipping line 1502020: ',' expected after '\"'\n",
      "Skipping line 1589293: field larger than field limit (131072)\n",
      "Skipping line 1880891: ',' expected after '\"'\n",
      "Skipping line 1915139: ',' expected after '\"'\n",
      "Skipping line 2119862: ',' expected after '\"'\n",
      "Skipping line 2326388: field larger than field limit (131072)\n",
      "Skipping line 2373250: field larger than field limit (131072)\n",
      "Skipping line 2831138: ',' expected after '\"'\n"
     ]
    }
   ],
   "source": [
    "import pandas as pd\n",
    "\n",
    "names = ['test_id','vehicle_id','test_date','test_class_id','test_type','test_result','test_mileage','postcode_area','make','model','colour','fuel_type','cylinder_capacity','first_use_date']\n",
    "dtypes = {'test_id':'object', \n",
    "          'vehicle_id':'object',\n",
    "          'test_date':'object', \n",
    "          'test_class_id':'object',\n",
    "          'test_type':'object', \n",
    "          'test_result':'object', \n",
    "          'test_mileage':'object',\n",
    "          'postcode_area':'object', \n",
    "          'make':'object', \n",
    "          'model':'object', \n",
    "          'colour':'object',\n",
    "          'fuel_type':'object', \n",
    "          'cylinder_capacity':'object', \n",
    "          'first_use_date':'object'}\n",
    "\n",
    "df = pd.read_csv('data\\dft_test_result-from-2019-01-01_00-00-01-to-2019-04-01_00-00-01.csv', \n",
    "                 sep=',', delim_whitespace=False,\n",
    "                 names=names, dtype=dtypes, engine='python',\n",
    "                 error_bad_lines=False, warn_bad_lines=True)"
   ]
  },
  {
   "cell_type": "code",
   "execution_count": 29,
   "metadata": {},
   "outputs": [
    {
     "name": "stdout",
     "output_type": "stream",
     "text": [
      "[7795035]'949006953,530878704,2019-03-13,4,NT,F,97820,WV,PEUGEOT,206,BLACK,PE,1124,2005-06-22\\n'\n",
      "[7795036]'617174697,430206562,2019-03-13,4,NT,P,105544,KY,FORD,FIESTA,RED,PE,1242,2008-06-30\\n'\n",
      "[7795037]'386016899,62987472,2019-03-13,4,NT,F,75782,S,ALFA ROMEO,GTV,RED,PE,1970,1998-12-31\\n'\n",
      "[7795038]'1804912503,787906537,2019-03-13,4,NT,P,12290,GU,BMW,640,WHITE,DI,2993,2016-03-31\\n'\n",
      "[7795039]'768310261,1057058832,2019-03-13,4,NT,F,132266,OX,RENAULT,MEGANE,GREY,PE,1598,2007-06-01\\n'\n",
      "[7795040]'796129403,574047489,2019-03-13,4,NT,P,51702,HA,MERCEDES-BENZ,S,BLACK,DI,2987,2017-03-08\\n'\n",
      "[7795041]'1112982121,84725216,2019-03-13,4,NT,P,56002,ME,VOLVO,V50,RED,DI,1998,2009-03-01\\n'\n",
      "[7795042]'621454565,198140398,2019-03-13,4,NT,P,184517,RG,AUDI,A4,BLACK,DI,1986,2005-04-25\\n'\n",
      "[7795043]'911633205,268208114,2019-03-13,4,NT,P,42126,ME,SUZUKI,ALTO,RED,PE,1061,2004-12-18\\n'\n",
      "[7795044]'680723161,1056038228,2019-03-13,4,RT,P,36094,BS,CITROEN,C3,WHITE,PE,1124,2009-03-31\\n'\n",
      "[7795045]'1215199591,46478260,2019-03-13,4,NT,F,125547,WF,SUZUKI,SWIFT,BLUE,PE,1328,2006-06-19\\n'\n",
      "[7795046]'347250333,314445632,2019-03-13,4,NT,P,139783,NW,TOYOTA,PRIUS PLUS,WHITE,HY,1798,2012-09-14\\n'\n",
      "[7795047]'1011710741,345166404,2019-03-13,4,NT,F,113875,TS,LAND ROVER,DISCOVERY,RED,DI,2720,2009-03-04\\n'\n",
      "[7795048]'630213275,364649837,2019-03-13,4,NT,P,27470,B,AUDI,A3,BLUE,PE,2480,2016-02-26\\n'\n",
      "[7795049]'689234117,614302651,2019-03-13,4,NT,P,7976,BS,TOYOTA,YARIS,SILVER,PE,1329,2013-03-26\\n'\n"
     ]
    }
   ],
   "source": [
    "lines = list(range(7795035, 7795050))\n",
    "\n",
    "with open('data\\dft_test_result-from-2019-01-01_00-00-01-to-2019-04-01_00-00-01.csv') as fp:\n",
    "    for i, line in enumerate(fp):\n",
    "        if i in lines:\n",
    "            print(f'[{i}]{repr(line)}')\n",
    "        elif i > max(lines):\n",
    "            break"
   ]
  },
  {
   "cell_type": "code",
   "execution_count": null,
   "metadata": {},
   "outputs": [],
   "source": [
    "df.to_sql('table1', connection, if_exists='replace', index = False)"
   ]
  },
  {
   "cell_type": "markdown",
   "metadata": {},
   "source": [
    "Columns in dataset are:\n",
    "test_id,vehicle_id,test_date,test_class_id,test_type,test_result,test_mileage,postcode_area,make,model,colour,fuel_type,cylinder_capacity,first_use_date"
   ]
  },
  {
   "cell_type": "code",
   "execution_count": null,
   "metadata": {},
   "outputs": [],
   "source": [
    "execute_query(connection, = \"\"\"\n",
    "CREATE TABLE IF NOT EXISTS users (\n",
    "  test_id INTEGER PRIMARY KEY AUTOINCREMENT,\n",
    "  name TEXT NOT NULL,\n",
    "  age INTEGER,\n",
    "  gender TEXT,\n",
    "  nationality TEXT\n",
    ");\n",
    "\"\")\""
   ]
  }
 ],
 "metadata": {
  "kernelspec": {
   "display_name": "Python 3",
   "language": "python",
   "name": "python3"
  },
  "language_info": {
   "codemirror_mode": {
    "name": "ipython",
    "version": 3
   },
   "file_extension": ".py",
   "mimetype": "text/x-python",
   "name": "python",
   "nbconvert_exporter": "python",
   "pygments_lexer": "ipython3",
   "version": "3.7.7"
  }
 },
 "nbformat": 4,
 "nbformat_minor": 4
}
