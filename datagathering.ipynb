{
 "cells": [
  {
   "cell_type": "markdown",
   "metadata": {},
   "source": [
    "Data downloaded from:\n",
    "[http://data.dft.gov.uk/anonymised-mot-test/test_data/dft_test_result_2019.zip](https://data.gov.uk/dataset/e3939ef8-30c7-4ca8-9c7c-ad9475cc9b2f/anonymised-mot-tests-and-results)\n",
    "\n",
    "Zip file extracted to local disk, then 4 csv files put into the `mot-data/data` folder"
   ]
  },
  {
   "cell_type": "code",
   "execution_count": 1,
   "metadata": {},
   "outputs": [
    {
     "name": "stdout",
     "output_type": "stream",
     "text": [
      "Connection to SQLite DB successful\n"
     ]
    }
   ],
   "source": [
    "# Import and create a new database file\n",
    "import sqlite3\n",
    "from sqlite3 import Error\n",
    "import os\n",
    "\n",
    "def create_connection(path):\n",
    "    connection = None\n",
    "    try:\n",
    "        connection = sqlite3.connect(path)\n",
    "        print(\"Connection to SQLite DB successful\")\n",
    "    except Error as e:\n",
    "        print(f\"The error '{e}' occurred\")\n",
    "\n",
    "    return connection\n",
    "\n",
    "connection = create_connection(os.path.join('data','mot.sqlite'))\n"
   ]
  },
  {
   "cell_type": "code",
   "execution_count": 35,
   "metadata": {},
   "outputs": [],
   "source": [
    "# Create function to simply execute query\n",
    "def execute_query(connection, query, firstonly=False, verbose=True):\n",
    "    cursor = connection.cursor()\n",
    "    try:\n",
    "        cursor.execute(query)\n",
    "        connection.commit()\n",
    "        if verbose:print(\"Query executed successfully\");\n",
    "    except Error as e:\n",
    "        print(f\"The error '{e}' occurred\")\n",
    "    if firstonly:\n",
    "        return cursor.fetchone()\n",
    "    else:\n",
    "        return cursor.fetchall()\n",
    "\n",
    "def insert_query(connection, query, t, verbose=True):\n",
    "    cursor = connection.cursor()\n",
    "    try:\n",
    "        cursor.executemany(query, t)\n",
    "        connection.commit()\n",
    "        if verbose:print(\"Query executed successfully\");\n",
    "    except Error as e:\n",
    "        print(f\"The error '{e}' occurred\")\n",
    "    return"
   ]
  },
  {
   "cell_type": "code",
   "execution_count": 125,
   "metadata": {},
   "outputs": [],
   "source": [
    "import pandas as pd\n",
    "import os\n",
    "\n",
    "names = ['test_id','vehicle_id','test_date','test_class_id','test_type','test_result','test_mileage','postcode_area','make','model','colour','fuel_type','cylinder_capacity','first_use_date']\n",
    "dtypes = {'test_id':'int', \n",
    "          'vehicle_id':'int',\n",
    "          'test_date':'object', \n",
    "          'test_class_id':'int',\n",
    "          'test_type':'object', \n",
    "          'test_result':'object', \n",
    "          'test_mileage':pd.Int64Dtype(),\n",
    "          'postcode_area':'object', \n",
    "          'make':'object', \n",
    "          'model':'object', \n",
    "          'colour':'object',\n",
    "          'fuel_type':'object', \n",
    "          'cylinder_capacity':'object', \n",
    "          'first_use_date':'object'}\n",
    "na_values = {'test_mileage':-1}"
   ]
  },
  {
   "cell_type": "code",
   "execution_count": 183,
   "metadata": {},
   "outputs": [
    {
     "name": "stdout",
     "output_type": "stream",
     "text": [
      "Query executed successfully\n",
      "Query executed successfully\n",
      "Query executed successfully\n",
      "Query executed successfully\n",
      "Query executed successfully\n"
     ]
    }
   ],
   "source": [
    "# Create mot1 table\n",
    "execute_query(connection,'''\n",
    "DROP TABLE IF EXISTS mot1;\n",
    "''')\n",
    "\n",
    "execute_query(connection,'''\n",
    "DROP TABLE IF EXISTS passtable;\n",
    "''')\n",
    "\n",
    "execute_query(connection, '''\n",
    "CREATE TABLE mot1 (\n",
    "  test_id INTEGER,\n",
    "  vehicle_id INTEGER,\n",
    "  test_date TEXT,\n",
    "  test_class_id INTEGER,\n",
    "  test_type TEXT,\n",
    "  test_result INTEGER,\n",
    "  test_mileage INTEGER,\n",
    "  postcode_area TEXT,\n",
    "  make TEXT,\n",
    "  model TEXT,\n",
    "  colour TEXT,\n",
    "  fuel_type TEXT,\n",
    "  cylinder_capacity INTEGER,\n",
    "  first_use_date TEXT,\n",
    "  FOREIGN KEY(test_result) REFERENCES passtable(test_result)\n",
    ");\n",
    "''')\n",
    "# FOREIGN KEY(test_class_id) REFERENCES classtable(test_class_id),\n",
    "\n",
    "\n",
    "# execute_query(connection, '''\n",
    "# CREATE TABLE classtable (\n",
    "#     test_class_id INTEGER,\n",
    "#     description TEXT\n",
    "# );\n",
    "# ''')\n",
    "\n",
    "# insert_query(connection, '''\n",
    "# INSERT INTO classtable (test_class_id, description)\n",
    "# VALUES (?,?) (?,?) (?,?) (?,?) (?,?) (?,?) (?,?)\n",
    "# ''', ())\n",
    "\n",
    "execute_query(connection, '''\n",
    "CREATE TABLE passtable (\n",
    "    test_result INTEGER,\n",
    "    test_result_code TEXT,\n",
    "    description TEXT\n",
    ");\n",
    "''')\n",
    "\n",
    "insert_query(connection, '''\n",
    "INSERT INTO passtable (test_result, test_result_code, description)\n",
    "VALUES (?,?,?)\n",
    "''', [(0,'P','Pass'),\n",
    "     (1,'F','Fail'),\n",
    "     (2,'PRS','Pass with rectification'),\n",
    "     (3,'ABA','Abandon with fee charged'),\n",
    "     (4,'ABR','Abort with no fee due to equipment etc'),\n",
    "     (5,'ABRVE','Abort with no fee due to examiner')])\n"
   ]
  },
  {
   "cell_type": "code",
   "execution_count": null,
   "metadata": {},
   "outputs": [],
   "source": [
    "print(*execute_query(connection,'SELECT * FROM mot1 limit 20;', verbose=False))"
   ]
  },
  {
   "cell_type": "code",
   "execution_count": 100,
   "metadata": {},
   "outputs": [
    {
     "data": {
      "text/plain": [
       "[(0, 'P', 'Pass'),\n",
       " (1, 'F', 'Fail'),\n",
       " (2, 'PRS', 'Pass with rectification'),\n",
       " (3, 'ABA', 'Abandon with fee charged'),\n",
       " (4, 'ABR', 'Abort with no fee due to equipment etc'),\n",
       " (5, 'ABRVE', 'Abort with no fee due to examiner')]"
      ]
     },
     "execution_count": 100,
     "metadata": {},
     "output_type": "execute_result"
    }
   ],
   "source": [
    "# Verify passtable looks right\n",
    "execute_query(connection,'SELECT * FROM passtable limit 20;', verbose=False)"
   ]
  },
  {
   "cell_type": "code",
   "execution_count": 184,
   "metadata": {},
   "outputs": [
    {
     "name": "stdout",
     "output_type": "stream",
     "text": [
      "chunknum 0 completed.\n",
      "chunknum 1 completed.\n",
      "chunknum 2 completed.\n",
      "...NaT detected\n",
      "chunknum 3 completed.\n",
      "chunknum 4 completed.\n",
      "chunknum 5 completed.\n",
      "chunknum 6 completed.\n",
      "chunknum 7 completed.\n",
      "chunknum 8 completed.\n",
      "chunknum 9 completed.\n",
      "chunknum 10 completed.\n",
      "chunknum 11 completed.\n",
      "chunknum 12 completed.\n",
      "...NaT detected\n",
      "chunknum 13 completed.\n",
      "chunknum 14 completed.\n",
      "chunknum 15 completed.\n",
      "chunknum 16 completed.\n",
      "...NaT detected\n",
      "chunknum 17 completed.\n",
      "...NaT detected\n",
      "chunknum 18 completed.\n",
      "chunknum 19 completed.\n",
      "...NaT detected\n",
      "chunknum 20 completed.\n",
      "...NaT detected\n",
      "chunknum 21 completed.\n",
      "chunknum 22 completed.\n",
      "...NaT detected\n",
      "chunknum 23 completed.\n",
      "chunknum 24 completed.\n",
      "chunknum 25 completed.\n",
      "chunknum 26 completed.\n",
      "chunknum 27 completed.\n",
      "chunknum 28 completed.\n",
      "chunknum 29 completed.\n",
      "chunknum 30 completed.\n",
      "chunknum 31 completed.\n",
      "chunknum 32 completed.\n",
      "chunknum 33 completed.\n",
      "chunknum 34 completed.\n",
      "...NaT detected\n",
      "chunknum 35 completed.\n",
      "chunknum 36 completed.\n",
      "chunknum 37 completed.\n",
      "chunknum 38 completed.\n",
      "chunknum 39 completed.\n",
      "chunknum 40 completed.\n",
      "chunknum 41 completed.\n",
      "chunknum 42 completed.\n",
      "chunknum 43 completed.\n",
      "chunknum 44 completed.\n",
      "...NaT detected\n",
      "chunknum 45 completed.\n",
      "chunknum 46 completed.\n",
      "...NaT detected\n",
      "chunknum 47 completed.\n",
      "chunknum 48 completed.\n",
      "chunknum 49 completed.\n",
      "chunknum 50 completed.\n",
      "chunknum 51 completed.\n",
      "[1508254279, 1487206527, 1197994457, 1371175063, 1969863607, 713113865, 1926654095, 758782857, 20432289, 1951363753, 267869835]\n"
     ]
    }
   ],
   "source": [
    "# Modidfied copy\n",
    "from datetime import datetime\n",
    "list_nats = []\n",
    "\n",
    "def mot_to_sql(path, connection, tablename, list_nats=[], if_exists='append'):\n",
    "    # Alternative simpler code, straight from dataframe to sql.\n",
    "    for i, chunk in enumerate(pd.read_csv(os.path.join('data',path),\n",
    "                             sep=',', delim_whitespace=False,\n",
    "                             names=names, dtype=dtypes, engine='python',\n",
    "                             chunksize=200000, iterator=True, header=0,\n",
    "                             error_bad_lines=False, warn_bad_lines=True, doublequote=False)):\n",
    "        #DEBUGGING\n",
    "        #if i>10:break\n",
    "\n",
    "        # Encode pass results to adhere to lookup table\n",
    "        chunk.loc[chunk['test_result'] == 'P','test_result'] = 0\n",
    "        chunk.loc[chunk['test_result'] == 'F','test_result'] = 1\n",
    "        chunk.loc[chunk['test_result'] == 'PRS','test_result'] = 2\n",
    "        chunk.loc[chunk['test_result'] == 'ABA','test_result'] = 3\n",
    "        chunk.loc[chunk['test_result'] == 'ABR','test_result'] = 4\n",
    "        chunk.loc[chunk['test_result'] == 'ABRVE','test_result'] = 5\n",
    "        chunk['test_result'] = chunk['test_result'].astype(int)\n",
    "\n",
    "        # Clean nan mileages\n",
    "        chunk.loc[pd.isna(chunk['test_mileage']),'test_mileage'] = -1\n",
    "\n",
    "        # Clean nan engine sizes\n",
    "        chunk.loc[pd.isna(chunk['cylinder_capacity']),'cylinder_capacity'] = -1\n",
    "\n",
    "        # Clean dates\n",
    "        chunk['test_date'] = pd.to_datetime(chunk['test_date'],format='%Y-%m-%d', errors='coerce')\n",
    "        chunk['first_use_date'] = pd.to_datetime(chunk['first_use_date'],format='%Y-%m-%d', errors='coerce')\n",
    "\n",
    "        chunk.to_sql(tablename, connection, if_exists=if_exists, index = False)\n",
    "        print(f'chunknum {i} completed.')\n",
    "        \n",
    "        is_nat = pd.isna(chunk['first_use_date'])\n",
    "        if any(is_nat):\n",
    "            list_nats.extend(chunk[is_nat]['test_id'].values)\n",
    "            print('...NaT detected')\n",
    "\n",
    "    return list_nats\n",
    "        \n",
    "list_nats = mot_to_sql('dft_test_result-from-2019-01-01_00-00-01-to-2019-04-01_00-00-01.csv',connection,'mot1',list_nats=[],if_exists='append')\n",
    "print(list_nats)"
   ]
  },
  {
   "cell_type": "code",
   "execution_count": null,
   "metadata": {},
   "outputs": [],
   "source": [
    "df = pd.read_sql_query('''\n",
    "\n",
    "''')"
   ]
  },
  {
   "cell_type": "code",
   "execution_count": 167,
   "metadata": {},
   "outputs": [
    {
     "name": "stdout",
     "output_type": "stream",
     "text": [
      "27725002 bytes\n",
      "<class 'pandas.core.frame.DataFrame'>\n",
      "RangeIndex: 40000 entries, 0 to 39999\n",
      "Data columns (total 17 columns):\n",
      " #   Column             Non-Null Count  Dtype \n",
      "---  ------             --------------  ----- \n",
      " 0   test_id            40000 non-null  int64 \n",
      " 1   vehicle_id         40000 non-null  int64 \n",
      " 2   test_date          40000 non-null  object\n",
      " 3   test_class_id      40000 non-null  int64 \n",
      " 4   test_type          40000 non-null  object\n",
      " 5   test_result        40000 non-null  int64 \n",
      " 6   test_mileage       40000 non-null  int64 \n",
      " 7   postcode_area      40000 non-null  object\n",
      " 8   make               40000 non-null  object\n",
      " 9   model              40000 non-null  object\n",
      " 10  colour             40000 non-null  object\n",
      " 11  fuel_type          40000 non-null  object\n",
      " 12  cylinder_capacity  40000 non-null  int64 \n",
      " 13  first_use_date     40000 non-null  object\n",
      " 14  test_result        40000 non-null  int64 \n",
      " 15  test_result_code   40000 non-null  object\n",
      " 16  description        40000 non-null  object\n",
      "dtypes: int64(7), object(10)\n",
      "memory usage: 5.2+ MB\n"
     ]
    }
   ],
   "source": [
    "df = pd.read_sql_query('''SELECT * FROM mot1 \n",
    "LEFT JOIN passtable \n",
    "ON passtable.test_result = mot1.test_result;''', connection)\n",
    "\n",
    "import sys\n",
    "print(sys.getsizeof(df),'bytes')\n",
    "df.info()"
   ]
  },
  {
   "cell_type": "code",
   "execution_count": 156,
   "metadata": {},
   "outputs": [
    {
     "name": "stdout",
     "output_type": "stream",
     "text": [
      "Query executed successfully\n",
      "CREATE TABLE mot1 (\n",
      "  test_id INTEGER,\n",
      "  vehicle_id INTEGER,\n",
      "  test_date TEXT,\n",
      "  test_class_id INTEGER,\n",
      "  test_type TEXT,\n",
      "  test_result INTEGER,\n",
      "  test_mileage INTEGER,\n",
      "  postcode_area TEXT,\n",
      "  make TEXT,\n",
      "  model TEXT,\n",
      "  colour TEXT,\n",
      "  fuel_type TEXT,\n",
      "  cylinder_capacity INTEGER,\n",
      "  first_use_date TEXT,\n",
      "  FOREIGN KEY(test_result) REFERENCES passtable(test_result)\n",
      ")\n"
     ]
    }
   ],
   "source": [
    "# Show schema\n",
    "print(execute_query(connection,'''\n",
    "SELECT sql\n",
    "FROM sqlite_master\n",
    "WHERE type=\"table\"\n",
    "AND name=\"mot1\";\n",
    "''')[0][0])"
   ]
  },
  {
   "cell_type": "code",
   "execution_count": 176,
   "metadata": {},
   "outputs": [
    {
     "data": {
      "text/plain": [
       "[]"
      ]
     },
     "execution_count": 176,
     "metadata": {},
     "output_type": "execute_result"
    }
   ],
   "source": [
    "list_nats"
   ]
  },
  {
   "cell_type": "code",
   "execution_count": null,
   "metadata": {},
   "outputs": [],
   "source": [
    "df = pd.read_csv(os.path.join('data','dft_test_result-from-2019-01-01_00-00-01-to-2019-04-01_00-00-01.csv'), \n",
    "                 sep=',', delim_whitespace=False,\n",
    "                 names=names, dtype=dtypes, engine='python', chunksize=20000,\n",
    "                 error_bad_lines=False, warn_bad_lines=True)"
   ]
  },
  {
   "cell_type": "code",
   "execution_count": null,
   "metadata": {},
   "outputs": [],
   "source": [
    "lines = list(range(7795035, 7795036))\n",
    "\n",
    "with open(os.path.join('data','dft_test_result-from-2019-01-01_00-00-01-to-2019-04-01_00-00-01.csv')) as fp:\n",
    "    for i, line in enumerate(fp):\n",
    "        if i in lines:\n",
    "            print(f'[{i}]{repr(line)}')\n",
    "        elif i > max(lines):\n",
    "            break"
   ]
  },
  {
   "cell_type": "code",
   "execution_count": null,
   "metadata": {},
   "outputs": [],
   "source": [
    "df.to_sql('table1', connection, if_exists='replace', index = False)"
   ]
  },
  {
   "cell_type": "markdown",
   "metadata": {},
   "source": [
    "Columns in dataset are:\n",
    "test_id,vehicle_id,test_date,test_class_id,test_type,test_result,test_mileage,postcode_area,make,model,colour,fuel_type,cylinder_capacity,first_use_date"
   ]
  },
  {
   "cell_type": "code",
   "execution_count": null,
   "metadata": {},
   "outputs": [],
   "source": []
  }
 ],
 "metadata": {
  "kernelspec": {
   "display_name": "Python 3",
   "language": "python",
   "name": "python3"
  },
  "language_info": {
   "codemirror_mode": {
    "name": "ipython",
    "version": 3
   },
   "file_extension": ".py",
   "mimetype": "text/x-python",
   "name": "python",
   "nbconvert_exporter": "python",
   "pygments_lexer": "ipython3",
   "version": "3.8.5"
  }
 },
 "nbformat": 4,
 "nbformat_minor": 4
}
