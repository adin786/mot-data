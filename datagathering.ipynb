{
 "cells": [
  {
   "cell_type": "markdown",
   "metadata": {},
   "source": [
    "# Data collection and storing with SQLite\n",
    "Data downloaded from:\n",
    "[http://data.dft.gov.uk/anonymised-mot-test/test_data/dft_test_result_2019.zip](https://data.gov.uk/dataset/e3939ef8-30c7-4ca8-9c7c-ad9475cc9b2f/anonymised-mot-tests-and-results)\n",
    "\n",
    "Zip file extracted to local disk, then 4 csv files put into the `mot-data/data` folder"
   ]
  },
  {
   "cell_type": "code",
   "execution_count": 1,
   "metadata": {},
   "outputs": [
    {
     "name": "stdout",
     "output_type": "stream",
     "text": [
      "Connection to SQLite DB successful\n"
     ]
    }
   ],
   "source": [
    "# Import and create a new database file\n",
    "import sqlite3\n",
    "from sqlite3 import Error\n",
    "import os\n",
    "\n",
    "def create_connection(path):\n",
    "    connection = None\n",
    "    try:\n",
    "        connection = sqlite3.connect(path)\n",
    "        print(\"Connection to SQLite DB successful\")\n",
    "    except Error as e:\n",
    "        print(f\"The error '{e}' occurred\")\n",
    "\n",
    "    return connection\n",
    "\n",
    "connection = create_connection(os.path.join('data','mot.sqlite'))"
   ]
  },
  {
   "cell_type": "code",
   "execution_count": 2,
   "metadata": {},
   "outputs": [],
   "source": [
    "# Create function to simply execute query\n",
    "def execute_query(connection, query, firstonly=False, verbose=True):\n",
    "    cursor = connection.cursor()\n",
    "    try:\n",
    "        cursor.execute(query)\n",
    "        connection.commit()\n",
    "        if verbose:print(\"Query executed successfully\");\n",
    "    except Error as e:\n",
    "        print(f\"The error '{e}' occurred\")\n",
    "    if firstonly:\n",
    "        return cursor.fetchone()\n",
    "    else:\n",
    "        return cursor.fetchall()\n",
    "\n",
    "def insert_query(connection, query, t, verbose=True):\n",
    "    cursor = connection.cursor()\n",
    "    try:\n",
    "        cursor.executemany(query, t)\n",
    "        connection.commit()\n",
    "        if verbose:print(\"Query executed successfully\");\n",
    "    except Error as e:\n",
    "        print(f\"The error '{e}' occurred\")\n",
    "    return"
   ]
  },
  {
   "cell_type": "code",
   "execution_count": 3,
   "metadata": {},
   "outputs": [],
   "source": [
    "import pandas as pd\n",
    "import os\n",
    "\n",
    "names = ['test_id','vehicle_id','test_date','test_class_id','test_type','test_result','test_mileage','postcode_area','make','model','colour','fuel_type','cylinder_capacity','first_use_date']\n",
    "dtypes = {'test_id':'int', \n",
    "          'vehicle_id':'int',\n",
    "          'test_date':'object', \n",
    "          'test_class_id':'int',\n",
    "          'test_type':'object', \n",
    "          'test_result':'object', \n",
    "          'test_mileage':pd.Int64Dtype(),\n",
    "          'postcode_area':'object', \n",
    "          'make':'object', \n",
    "          'model':'object', \n",
    "          'colour':'object',\n",
    "          'fuel_type':'object', \n",
    "          'cylinder_capacity':'object', \n",
    "          'first_use_date':'object'}\n",
    "na_values = {'test_mileage':-1}"
   ]
  },
  {
   "cell_type": "code",
   "execution_count": 32,
   "metadata": {},
   "outputs": [
    {
     "name": "stdout",
     "output_type": "stream",
     "text": [
      "Query executed successfully\n",
      "Query executed successfully\n",
      "Query executed successfully\n",
      "Query executed successfully\n",
      "Query executed successfully\n"
     ]
    }
   ],
   "source": [
    "# Create mot1 table\n",
    "execute_query(connection,'''\n",
    "DROP TABLE IF EXISTS mot1;\n",
    "''')\n",
    "\n",
    "execute_query(connection,'''\n",
    "DROP TABLE IF EXISTS passtable;\n",
    "''')\n",
    "\n",
    "execute_query(connection, '''\n",
    "CREATE TABLE mot1 (\n",
    "  test_id INTEGER,\n",
    "  vehicle_id INTEGER,\n",
    "  test_date TEXT,\n",
    "  test_class_id INTEGER,\n",
    "  test_type TEXT,\n",
    "  test_result INTEGER,\n",
    "  test_mileage INTEGER,\n",
    "  postcode_area TEXT,\n",
    "  make TEXT,\n",
    "  model TEXT,\n",
    "  colour TEXT,\n",
    "  fuel_type TEXT,\n",
    "  cylinder_capacity INTEGER,\n",
    "  first_use_date TEXT,\n",
    "  FOREIGN KEY(test_result) REFERENCES passtable(test_result)\n",
    ");\n",
    "''')\n",
    "\n",
    "execute_query(connection, '''\n",
    "CREATE TABLE passtable (\n",
    "    test_result INTEGER,\n",
    "    test_result_code TEXT,\n",
    "    description TEXT\n",
    ");\n",
    "''')\n",
    "\n",
    "insert_query(connection, '''\n",
    "INSERT INTO passtable (test_result, test_result_code, description)\n",
    "VALUES (?,?,?)\n",
    "''', [(0,'P','Pass'),\n",
    "     (1,'F','Fail'),\n",
    "     (2,'PRS','Pass with rectification'),\n",
    "     (3,'ABA','Abandon with fee charged'),\n",
    "     (4,'ABR','Abort with no fee due to equipment etc'),\n",
    "     (5,'ABRVE','Abort with no fee due to examiner')])"
   ]
  },
  {
   "cell_type": "code",
   "execution_count": 5,
   "metadata": {},
   "outputs": [
    {
     "name": "stdout",
     "output_type": "stream",
     "text": [
      "\n"
     ]
    }
   ],
   "source": [
    "print(*execute_query(connection,'SELECT * FROM mot1 limit 5;', verbose=False))"
   ]
  },
  {
   "cell_type": "code",
   "execution_count": 6,
   "metadata": {},
   "outputs": [
    {
     "data": {
      "text/plain": [
       "[(0, 'P', 'Pass'),\n",
       " (1, 'F', 'Fail'),\n",
       " (2, 'PRS', 'Pass with rectification'),\n",
       " (3, 'ABA', 'Abandon with fee charged'),\n",
       " (4, 'ABR', 'Abort with no fee due to equipment etc')]"
      ]
     },
     "execution_count": 6,
     "metadata": {},
     "output_type": "execute_result"
    }
   ],
   "source": [
    "# Verify passtable looks right\n",
    "execute_query(connection,'SELECT * FROM passtable limit 5;', verbose=False)"
   ]
  },
  {
   "cell_type": "code",
   "execution_count": 30,
   "metadata": {},
   "outputs": [
    {
     "name": "stdout",
     "output_type": "stream",
     "text": [
      "True\n"
     ]
    },
    {
     "data": {
      "text/plain": [
       "['dft_test_result-from-2019-04-01_00-00-01-to-2019-07-01_00-00-01.csv',\n",
       " 'dft_test_result-from-2019-01-01_00-00-01-to-2019-04-01_00-00-01.csv',\n",
       " 'dft_test_result-from-2019-10-01_00-00-01-to-2020-01-01_00-00-01.csv',\n",
       " 'dft_test_result-from-2019-07-01_00-00-01-to-2019-10-01_00-00-01.csv']"
      ]
     },
     "execution_count": 30,
     "metadata": {},
     "output_type": "execute_result"
    }
   ],
   "source": [
    "print(os.path.isfile(os.path.join('data','dft_test_result-from-2019-04-01_00-00-01-to-2019-07-01_00-00-01.csv')))\n",
    "[x for x in os.listdir('data') if '.csv' in x]\n",
    "# os.path.isfile(f'data/{a[0]}')\n",
    "# print(a)"
   ]
  },
  {
   "cell_type": "code",
   "execution_count": 33,
   "metadata": {
    "scrolled": true
   },
   "outputs": [
    {
     "name": "stdout",
     "output_type": "stream",
     "text": [
      "chunknum 0 completed.\n",
      "...NaT detected\n",
      "chunknum 1 completed.\n",
      "chunknum 2 completed.\n",
      "chunknum 3 completed.\n",
      "chunknum 4 completed.\n",
      "chunknum 5 completed.\n",
      "chunknum 6 completed.\n",
      "chunknum 7 completed.\n",
      "...NaT detected\n",
      "chunknum 8 completed.\n",
      "...NaT detected\n",
      "chunknum 9 completed.\n",
      "chunknum 10 completed.\n",
      "chunknum 11 completed.\n",
      "...NaT detected\n",
      "chunknum 12 completed.\n",
      "chunknum 13 completed.\n",
      "chunknum 14 completed.\n",
      "chunknum 15 completed.\n",
      "...NaT detected\n",
      "chunknum 16 completed.\n",
      "...NaT detected\n",
      "chunknum 17 completed.\n",
      "chunknum 18 completed.\n",
      "...NaT detected\n",
      "chunknum 19 completed.\n",
      "chunknum 20 completed.\n",
      "...NaT detected\n",
      "File1 nats:  [1413867915, 494067041, 458084789, 1572247029, 1480912787, 1706775143, 1519590599, 549522641, 275261921, 68409671]\n",
      "chunknum 0 completed.\n",
      "chunknum 1 completed.\n",
      "...NaT detected\n",
      "chunknum 2 completed.\n",
      "chunknum 3 completed.\n",
      "chunknum 4 completed.\n",
      "...NaT detected\n",
      "chunknum 5 completed.\n",
      "chunknum 6 completed.\n",
      "...NaT detected\n",
      "chunknum 7 completed.\n",
      "...NaT detected\n",
      "chunknum 8 completed.\n",
      "...NaT detected\n",
      "chunknum 9 completed.\n",
      "...NaT detected\n",
      "chunknum 10 completed.\n",
      "chunknum 11 completed.\n",
      "chunknum 12 completed.\n",
      "chunknum 13 completed.\n",
      "...NaT detected\n",
      "chunknum 14 completed.\n",
      "chunknum 15 completed.\n",
      "chunknum 16 completed.\n",
      "chunknum 17 completed.\n",
      "...NaT detected\n",
      "chunknum 18 completed.\n",
      "...NaT detected\n",
      "chunknum 19 completed.\n",
      "chunknum 20 completed.\n",
      "File2 nats:  [1413867915, 494067041, 458084789, 1572247029, 1480912787, 1706775143, 1519590599, 549522641, 275261921, 68409671, 1508254279, 1487206527, 1197994457, 1371175063, 1969863607, 713113865, 1926654095, 758782857, 20432289, 1951363753, 267869835]\n",
      "chunknum 0 completed.\n",
      "chunknum 1 completed.\n",
      "chunknum 2 completed.\n",
      "chunknum 3 completed.\n",
      "chunknum 4 completed.\n",
      "...NaT detected\n",
      "chunknum 5 completed.\n",
      "...NaT detected\n",
      "chunknum 6 completed.\n",
      "chunknum 7 completed.\n",
      "chunknum 8 completed.\n",
      "...NaT detected\n",
      "chunknum 9 completed.\n",
      "...NaT detected\n",
      "chunknum 10 completed.\n",
      "chunknum 11 completed.\n",
      "chunknum 12 completed.\n",
      "chunknum 13 completed.\n",
      "...NaT detected\n",
      "chunknum 14 completed.\n",
      "...NaT detected\n",
      "chunknum 15 completed.\n",
      "chunknum 16 completed.\n",
      "File3 nats:  [1413867915, 494067041, 458084789, 1572247029, 1480912787, 1706775143, 1519590599, 549522641, 275261921, 68409671, 1508254279, 1487206527, 1197994457, 1371175063, 1969863607, 713113865, 1926654095, 758782857, 20432289, 1951363753, 267869835, 151909805, 1857516703, 547246697, 594809191, 602339371, 312054029, 1580590695, 1467572141, 245493977, 1546096289]\n",
      "chunknum 0 completed.\n",
      "...NaT detected\n",
      "chunknum 1 completed.\n",
      "chunknum 2 completed.\n",
      "...NaT detected\n",
      "chunknum 3 completed.\n",
      "chunknum 4 completed.\n",
      "...NaT detected\n",
      "chunknum 5 completed.\n",
      "chunknum 6 completed.\n",
      "chunknum 7 completed.\n",
      "chunknum 8 completed.\n",
      "chunknum 9 completed.\n",
      "chunknum 10 completed.\n",
      "chunknum 11 completed.\n",
      "chunknum 12 completed.\n",
      "...NaT detected\n",
      "chunknum 13 completed.\n",
      "...NaT detected\n",
      "chunknum 14 completed.\n",
      "...NaT detected\n",
      "chunknum 15 completed.\n",
      "chunknum 16 completed.\n",
      "...NaT detected\n",
      "chunknum 17 completed.\n",
      "chunknum 18 completed.\n",
      "...NaT detected\n",
      "chunknum 19 completed.\n",
      "chunknum 20 completed.\n",
      "File4 nats:  [1413867915, 494067041, 458084789, 1572247029, 1480912787, 1706775143, 1519590599, 549522641, 275261921, 68409671, 1508254279, 1487206527, 1197994457, 1371175063, 1969863607, 713113865, 1926654095, 758782857, 20432289, 1951363753, 267869835, 151909805, 1857516703, 547246697, 594809191, 602339371, 312054029, 1580590695, 1467572141, 245493977, 1546096289, 1212904601, 1788288741, 1203829975, 1417027143, 1587079331, 606207757, 152895981, 1516762995]\n"
     ]
    }
   ],
   "source": [
    "# Modidfied copy\n",
    "from datetime import datetime\n",
    "list_nats = []\n",
    "\n",
    "def mot_to_sql(path, connection, tablename, list_nats=[], if_exists='append'):\n",
    "    # Alternative simpler code, straight from dataframe to sql.\n",
    "    for i, chunk in enumerate(pd.read_csv(path,\n",
    "                             sep=',', delim_whitespace=False,\n",
    "                             names=names, dtype=dtypes, engine='python',\n",
    "                             chunksize=500000, iterator=True, header=0,\n",
    "                             error_bad_lines=False, warn_bad_lines=True, doublequote=False)):\n",
    "        #DEBUGGING\n",
    "        #if i>10:break\n",
    "\n",
    "        # Encode pass results to adhere to lookup table\n",
    "        chunk.loc[chunk['test_result'] == 'P','test_result'] = 0\n",
    "        chunk.loc[chunk['test_result'] == 'F','test_result'] = 1\n",
    "        chunk.loc[chunk['test_result'] == 'PRS','test_result'] = 2\n",
    "        chunk.loc[chunk['test_result'] == 'ABA','test_result'] = 3\n",
    "        chunk.loc[chunk['test_result'] == 'ABR','test_result'] = 4\n",
    "        chunk.loc[chunk['test_result'] == 'ABRVE','test_result'] = 5\n",
    "        chunk['test_result'] = chunk['test_result'].astype(int)\n",
    "\n",
    "        # Clean nan mileages\n",
    "        chunk.loc[pd.isna(chunk['test_mileage']),'test_mileage'] = -1\n",
    "\n",
    "        # Clean nan engine sizes\n",
    "        chunk.loc[pd.isna(chunk['cylinder_capacity']),'cylinder_capacity'] = -1\n",
    "\n",
    "        # Clean dates\n",
    "        chunk['test_date'] = pd.to_datetime(chunk['test_date'],format='%Y-%m-%d', errors='coerce')\n",
    "        chunk['first_use_date'] = pd.to_datetime(chunk['first_use_date'],format='%Y-%m-%d', errors='coerce')\n",
    "\n",
    "        chunk.to_sql(tablename, connection, if_exists=if_exists, index = False)\n",
    "        print(f'chunknum {i} completed.')\n",
    "        \n",
    "        is_nat = pd.isna(chunk['first_use_date'])\n",
    "        if any(is_nat):\n",
    "            list_nats.extend(chunk[is_nat]['test_id'].values)\n",
    "            print('...NaT detected')\n",
    "\n",
    "    return list_nats\n",
    "\n",
    "list_nats = mot_to_sql(os.path.join('data','dft_test_result-from-2019-04-01_00-00-01-to-2019-07-01_00-00-01.csv'),connection,'mot1',list_nats=list_nats,if_exists='append')\n",
    "print('File1 nats: ',list_nats)\n",
    "list_nats = mot_to_sql(os.path.join('data','dft_test_result-from-2019-01-01_00-00-01-to-2019-04-01_00-00-01.csv'),connection,'mot1',list_nats=list_nats,if_exists='append')\n",
    "print('File2 nats: ',list_nats)\n",
    "list_nats = mot_to_sql(os.path.join('data','dft_test_result-from-2019-10-01_00-00-01-to-2020-01-01_00-00-01.csv'),connection,'mot1',list_nats=list_nats,if_exists='append')\n",
    "print('File3 nats: ',list_nats)\n",
    "list_nats = mot_to_sql(os.path.join('data','dft_test_result-from-2019-07-01_00-00-01-to-2019-10-01_00-00-01.csv'),connection,'mot1',list_nats=list_nats,if_exists='append')\n",
    "print('File4 nats: ',list_nats)\n"
   ]
  },
  {
   "cell_type": "markdown",
   "metadata": {},
   "source": [
    "# Test the database"
   ]
  },
  {
   "cell_type": "code",
   "execution_count": null,
   "metadata": {},
   "outputs": [],
   "source": [
    "df = pd.read_sql_query('''SELECT * FROM mot1 \n",
    "LEFT JOIN passtable \n",
    "ON passtable.test_result = mot1.test_result;''', connection)\n",
    "\n",
    "import sys\n",
    "print(sys.getsizeof(df),'bytes')\n",
    "df.info()"
   ]
  },
  {
   "cell_type": "code",
   "execution_count": 37,
   "metadata": {},
   "outputs": [
    {
     "name": "stdout",
     "output_type": "stream",
     "text": [
      "Query executed successfully\n",
      "CREATE TABLE mot1 (\n",
      "  test_id INTEGER,\n",
      "  vehicle_id INTEGER,\n",
      "  test_date TEXT,\n",
      "  test_class_id INTEGER,\n",
      "  test_type TEXT,\n",
      "  test_result INTEGER,\n",
      "  test_mileage INTEGER,\n",
      "  postcode_area TEXT,\n",
      "  make TEXT,\n",
      "  model TEXT,\n",
      "  colour TEXT,\n",
      "  fuel_type TEXT,\n",
      "  cylinder_capacity INTEGER,\n",
      "  first_use_date TEXT,\n",
      "  FOREIGN KEY(test_result) REFERENCES passtable(test_result)\n",
      ")\n"
     ]
    }
   ],
   "source": [
    "# Show schema\n",
    "print(execute_query(connection,'''\n",
    "SELECT sql\n",
    "FROM sqlite_master\n",
    "WHERE type=\"table\"\n",
    "AND name=\"mot1\";\n",
    "''')[0][0])"
   ]
  },
  {
   "cell_type": "code",
   "execution_count": 36,
   "metadata": {},
   "outputs": [
    {
     "name": "stdout",
     "output_type": "stream",
     "text": [
      "Query executed successfully\n",
      "[(39310698,)]\n"
     ]
    }
   ],
   "source": [
    "print(execute_query(connection,'''\n",
    "SELECT COUNT(test_id)\n",
    "FROM mot1\n",
    "'''))"
   ]
  },
  {
   "cell_type": "code",
   "execution_count": 34,
   "metadata": {},
   "outputs": [
    {
     "data": {
      "text/plain": [
       "[1413867915,\n",
       " 494067041,\n",
       " 458084789,\n",
       " 1572247029,\n",
       " 1480912787,\n",
       " 1706775143,\n",
       " 1519590599,\n",
       " 549522641,\n",
       " 275261921,\n",
       " 68409671,\n",
       " 1508254279,\n",
       " 1487206527,\n",
       " 1197994457,\n",
       " 1371175063,\n",
       " 1969863607,\n",
       " 713113865,\n",
       " 1926654095,\n",
       " 758782857,\n",
       " 20432289,\n",
       " 1951363753,\n",
       " 267869835,\n",
       " 151909805,\n",
       " 1857516703,\n",
       " 547246697,\n",
       " 594809191,\n",
       " 602339371,\n",
       " 312054029,\n",
       " 1580590695,\n",
       " 1467572141,\n",
       " 245493977,\n",
       " 1546096289,\n",
       " 1212904601,\n",
       " 1788288741,\n",
       " 1203829975,\n",
       " 1417027143,\n",
       " 1587079331,\n",
       " 606207757,\n",
       " 152895981,\n",
       " 1516762995]"
      ]
     },
     "execution_count": 34,
     "metadata": {},
     "output_type": "execute_result"
    }
   ],
   "source": [
    "list_nats"
   ]
  },
  {
   "cell_type": "code",
   "execution_count": 35,
   "metadata": {},
   "outputs": [],
   "source": [
    "# Save to disk a copy of list_nats for future reference\n",
    "import pickle\n",
    "pickle.dump(list_nats,open( \"list_nats.pkl\", \"wb\" ))"
   ]
  },
  {
   "cell_type": "markdown",
   "metadata": {},
   "source": [
    "**Code for my debugging**\n",
    "\n",
    "To read specific line from csv file without loading all into memory"
   ]
  },
  {
   "cell_type": "code",
   "execution_count": null,
   "metadata": {},
   "outputs": [],
   "source": [
    "# Read specific line content from large csv file based on line number\n",
    "lines = list(range(7795035, 7795036))\n",
    "\n",
    "with open(os.path.join('data','dft_test_result-from-2019-01-01_00-00-01-to-2019-04-01_00-00-01.csv')) as fp:\n",
    "    for i, line in enumerate(fp):\n",
    "        if i in lines:\n",
    "            print(f'[{i}]{repr(line)}')\n",
    "        elif i > max(lines):\n",
    "            break"
   ]
  }
 ],
 "metadata": {
  "kernelspec": {
   "display_name": "Python 3",
   "language": "python",
   "name": "python3"
  },
  "language_info": {
   "codemirror_mode": {
    "name": "ipython",
    "version": 3
   },
   "file_extension": ".py",
   "mimetype": "text/x-python",
   "name": "python",
   "nbconvert_exporter": "python",
   "pygments_lexer": "ipython3",
   "version": "3.8.5"
  }
 },
 "nbformat": 4,
 "nbformat_minor": 4
}
